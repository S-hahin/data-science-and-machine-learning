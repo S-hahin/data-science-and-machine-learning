{
 "cells": [
  {
   "cell_type": "code",
   "execution_count": 22,
   "id": "cd79150b",
   "metadata": {},
   "outputs": [
    {
     "name": "stdout",
     "output_type": "stream",
     "text": [
      "detailsare- \n",
      "    sore_throat  fever  swollen_glands  congestion  headache     diagnosis\n",
      "0            1      1               1           1         1  strep_throat\n",
      "1            0      0               0           1         1       allergy\n",
      "2            1      1               0           1         0          cold\n",
      "3            1      0               1           0         0  strep_throat\n",
      "4            0      1               0           1         0          cold\n",
      "5            0      0               0           1         0       allergy\n",
      "6            0      0               1           0         0  strep_throat\n",
      "7            1      0               0           1         1       allergy\n",
      "8            0      1               0           1         1          cold\n",
      "9            1      1               0           1         1          cold\n",
      "['cold' 'cold' 'cold']\n",
      "Accuracy score is 1.0\n",
      "Predicted Diagnosis: ['strep_throat']\n",
      "Predicted Diagnosis: ['allergy']\n"
     ]
    },
    {
     "name": "stderr",
     "output_type": "stream",
     "text": [
      "C:\\Users\\User\\anaconda3\\lib\\site-packages\\sklearn\\base.py:450: UserWarning: X does not have valid feature names, but DecisionTreeClassifier was fitted with feature names\n",
      "  warnings.warn(\n",
      "C:\\Users\\User\\anaconda3\\lib\\site-packages\\sklearn\\base.py:450: UserWarning: X does not have valid feature names, but DecisionTreeClassifier was fitted with feature names\n",
      "  warnings.warn(\n"
     ]
    }
   ],
   "source": [
    "import pandas as pd\n",
    "from sklearn.tree import DecisionTreeClassifier\n",
    "from sklearn.model_selection import train_test_split\n",
    "from sklearn.metrics import accuracy_score\n",
    "dict={'sore_throat':[1,0,1,1,0,0,0,1,0,1],'fever':[1,0,1,0,1,0,0,0,1,1],'swollen_glands':[1,0,0,1,0,0,1,0,0,0],\n",
    "      'congestion':[1,1,1,0,1,1,0,1,1,1],'headache':[1,1,0,0,0,0,0,1,1,1],\n",
    "      'diagnosis':['strep_throat','allergy','cold','strep_throat','cold','allergy','strep_throat','allergy','cold','cold']}\n",
    "df= pd.DataFrame(dict)\n",
    "print(\"detailsare- \\n\",df)\n",
    "x=df[['sore_throat','fever','swollen_glands','congestion','headache']]\n",
    "y=df.diagnosis\n",
    "#display(x.shape,y.shape)\n",
    "#print(x)\n",
    "#print(y)\n",
    "x_train,x_test,y_train,y_test=train_test_split(x,y,random_state=0,test_size=0.3)\n",
    "\n",
    "classifier= DecisionTreeClassifier()\n",
    "classifier.fit(x_train,y_train)\n",
    "y_pred=classifier.predict(x_test)\n",
    "print(y_pred)\n",
    "#print(x_test)\n",
    "print(\"Accuracy score is\",accuracy_score(y_test,y_pred))\n",
    "\n",
    "new_data = [[0, 0, 1, 0, 0]]\n",
    "prediction = classifier.predict(new_data)\n",
    "\n",
    "print(\"Predicted Diagnosis:\", prediction)\n",
    "\n",
    "new_data1 = [[0, 0, 0, 1, 1]]\n",
    "prediction1 = classifier.predict(new_data1)\n",
    "\n",
    "print(\"Predicted Diagnosis:\", prediction1)\n",
    "\n"
   ]
  },
  {
   "cell_type": "code",
   "execution_count": null,
   "id": "44380f3b",
   "metadata": {},
   "outputs": [],
   "source": []
  }
 ],
 "metadata": {
  "kernelspec": {
   "display_name": "Python 3 (ipykernel)",
   "language": "python",
   "name": "python3"
  },
  "language_info": {
   "codemirror_mode": {
    "name": "ipython",
    "version": 3
   },
   "file_extension": ".py",
   "mimetype": "text/x-python",
   "name": "python",
   "nbconvert_exporter": "python",
   "pygments_lexer": "ipython3",
   "version": "3.9.13"
  }
 },
 "nbformat": 4,
 "nbformat_minor": 5
}
