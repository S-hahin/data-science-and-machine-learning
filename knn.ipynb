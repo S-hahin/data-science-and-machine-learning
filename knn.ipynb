{
 "cells": [
  {
   "cell_type": "code",
   "execution_count": 29,
   "id": "ed99551a",
   "metadata": {},
   "outputs": [
    {
     "name": "stdout",
     "output_type": "stream",
     "text": [
      "details are \n",
      "     BMI  Age  Sugar\n",
      "0  33.6   50      1\n",
      "1  26.6   30      0\n",
      "2  23.4   40      0\n",
      "3  43.1   67      0\n",
      "4  35.3   23      1\n",
      "5  35.9   67      1\n",
      "6  36.7   45      1\n",
      "7  25.7   46      0\n",
      "8  23.3   29      0\n",
      "9  31.0   56      1\n"
     ]
    },
    {
     "data": {
      "image/png": "[encoded data removed]",
      "text/plain": [
       "<Figure size 640x480 with 1 Axes>"
      ]
     },
     "metadata": {},
     "output_type": "display_data"
    },
    {
     "name": "stdout",
     "output_type": "stream",
     "text": [
      "[0 0 1]\n",
      "[1]\n",
      "[1]\n",
      "f1score 1.0\n",
      "cm [[2 0]\n",
      " [0 1]]\n",
      "acc 1.0\n"
     ]
    },
    {
     "name": "stderr",
     "output_type": "stream",
     "text": [
      "C:\\Users\\User\\anaconda3\\lib\\site-packages\\sklearn\\neighbors\\_classification.py:228: FutureWarning: Unlike other reduction functions (e.g. `skew`, `kurtosis`), the default behavior of `mode` typically preserves the axis it acts along. In SciPy 1.11.0, this behavior will change: the default value of `keepdims` will become False, the `axis` over which the statistic is taken will be eliminated, and the value None will no longer be accepted. Set `keepdims` to True or False to avoid this warning.\n",
      "  mode, _ = stats.mode(_y[neigh_ind, k], axis=1)\n",
      "C:\\Users\\User\\anaconda3\\lib\\site-packages\\sklearn\\neighbors\\_classification.py:228: FutureWarning: Unlike other reduction functions (e.g. `skew`, `kurtosis`), the default behavior of `mode` typically preserves the axis it acts along. In SciPy 1.11.0, this behavior will change: the default value of `keepdims` will become False, the `axis` over which the statistic is taken will be eliminated, and the value None will no longer be accepted. Set `keepdims` to True or False to avoid this warning.\n",
      "  mode, _ = stats.mode(_y[neigh_ind, k], axis=1)\n",
      "C:\\Users\\User\\anaconda3\\lib\\site-packages\\sklearn\\neighbors\\_classification.py:228: FutureWarning: Unlike other reduction functions (e.g. `skew`, `kurtosis`), the default behavior of `mode` typically preserves the axis it acts along. In SciPy 1.11.0, this behavior will change: the default value of `keepdims` will become False, the `axis` over which the statistic is taken will be eliminated, and the value None will no longer be accepted. Set `keepdims` to True or False to avoid this warning.\n",
      "  mode, _ = stats.mode(_y[neigh_ind, k], axis=1)\n"
     ]
    }
   ],
   "source": [
    "import matplotlib.pyplot as plt\n",
    "import pandas as pd\n",
    "from sklearn.neighbors import KNeighborsClassifier\n",
    "from sklearn.preprocessing import StandardScaler\n",
    "from sklearn.model_selection import train_test_split\n",
    "from sklearn.metrics import f1_score,accuracy_score,confusion_matrix\n",
    "\n",
    "dict={'BMI':[33.6,26.6,23.4,43.1,35.3,35.9,36.7,25.7,23.3,31],\n",
    "     'Age':[50,30,40,67,23,67,45,46,29,56],\n",
    "     'Sugar':[1,0,0,0,1,1,1,0,0,1]}\n",
    "df=pd.DataFrame(dict)\n",
    "print(\"details are \\n\",df)\n",
    "\n",
    "x=df[['BMI','Age']]\n",
    "y=df.Sugar\n",
    "\n",
    "\n",
    "#print(x)\n",
    "#print(y)\n",
    "x_train,x_test,y_train,y_test=train_test_split(x,y,random_state=0,test_size=0.3)\n",
    "plt.scatter(x_test['BMI'], x_test['Age'], c=y_pred)\n",
    "plt.title('KNN Classifier - Decision Boundary')\n",
    "plt.xlabel('BMI')\n",
    "plt.ylabel('Age')\n",
    "plt.show()\n",
    "\n",
    "sc=StandardScaler()\n",
    "x_train=sc.fit_transform(x_train)\n",
    "x_test=sc.transform(x_test)\n",
    "\n",
    "classifier=KNeighborsClassifier(n_neighbors=3,p=2,metric='euclidean')\n",
    "classifier.fit(x_train,y_train)\n",
    "y_pred=classifier.predict(x_test)\n",
    "print(y_pred)\n",
    "\n",
    "new_data=pd.DataFrame({'BMI':[43.6],'Age':[40]})\n",
    "sc_ndata=sc.transform(new_data)\n",
    "y_npred=classifier.predict(sc_ndata)\n",
    "print(y_npred)\n",
    "\n",
    "new_data1=pd.DataFrame({'BMI':[40],'Age':[55]})\n",
    "sc_ndata1=sc.transform(new_data1)\n",
    "y_npred1=classifier.predict(sc_ndata1)\n",
    "print(y_npred1)\n",
    "\n",
    "print(\"f1score\",f1_score(y_test,y_pred))\n",
    "print(\"cm\",confusion_matrix(y_test,y_pred))\n",
    "print(\"acc\",accuracy_score(y_test,y_pred))"
   ]
  },
  {
   "cell_type": "code",
   "execution_count": null,
   "id": "fdbcf103",
   "metadata": {},
   "outputs": [],
   "source": []
  }
 ],
 "metadata": {
  "kernelspec": {
   "display_name": "Python 3 (ipykernel)",
   "language": "python",
   "name": "python3"
  },
  "language_info": {
   "codemirror_mode": {
    "name": "ipython",
    "version": 3
   },
   "file_extension": ".py",
   "mimetype": "text/x-python",
   "name": "python",
   "nbconvert_exporter": "python",
   "pygments_lexer": "ipython3",
   "version": "3.9.13"
  }
 },
 "nbformat": 4,
 "nbformat_minor": 5
}
