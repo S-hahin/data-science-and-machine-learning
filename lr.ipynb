{
 "cells": [
  {
   "cell_type": "code",
   "execution_count": 14,
   "id": "8eae1cb9",
   "metadata": {},
   "outputs": [
    {
     "name": "stdout",
     "output_type": "stream",
     "text": [
      "details are \n",
      "     BMI  Age  Sugar\n",
      "0  33.6   50      1\n",
      "1  26.6   30      0\n",
      "2  23.4   40      0\n",
      "3  43.1   67      0\n",
      "4  35.3   23      1\n",
      "5  35.9   67      1\n",
      "6  36.7   45      1\n",
      "7  25.7   46      0\n",
      "8  23.3   29      0\n",
      "9  31.0   56      1\n",
      "Coefficients: \n",
      " [0.00361819 0.01008499]\n",
      "Intercept: \n",
      " -0.0688960183791949\n",
      "Mean Squared Error: 0.26\n",
      "Coefficient of determination: -0.16\n"
     ]
    },
    {
     "data": {
      "image/png": "[encoded data removed]",
      "text/plain": [
       "<Figure size 640x480 with 1 Axes>"
      ]
     },
     "metadata": {},
     "output_type": "display_data"
    },
    {
     "data": {
      "image/png": "[encoded data removed]",
      "text/plain": [
       "<Figure size 640x480 with 1 Axes>"
      ]
     },
     "metadata": {},
     "output_type": "display_data"
    }
   ],
   "source": [
    "import matplotlib.pyplot as plt\n",
    "import numpy as np\n",
    "import pandas as pd\n",
    "from sklearn.linear_model import LinearRegression\n",
    "from sklearn.model_selection import train_test_split\n",
    "from sklearn.metrics import mean_squared_error, r2_score\n",
    "\n",
    "# Load the diabetes dataset\n",
    "dict={'BMI':[33.6,26.6,23.4,43.1,35.3,35.9,36.7,25.7,23.3,31],\n",
    "     'Age':[50,30,40,67,23,67,45,46,29,56],\n",
    "     'Sugar':[1,0,0,0,1,1,1,0,0,1]}\n",
    "df=pd.DataFrame(dict)\n",
    "print(\"details are \\n\",df)\n",
    "x=df[['BMI','Age']]\n",
    "y=df.Sugar\n",
    "\n",
    "\n",
    "df_X_train,df_X_test,df_y_train,df_y_test=train_test_split(x,y,random_state=0,test_size=0.3)\n",
    "df_X =  df[['BMI','Age']]\n",
    "\n",
    "# Split the data into training/testing sets\n",
    "#df_X_train = df_X[:-3]\n",
    "#df_X_test = df_X[-3:]\n",
    "\n",
    "# Split the targets into training/testing sets\n",
    "#df_y_train = df.Sugar[:-3]\n",
    "#df_y_test = df.Sugar[-3:]\n",
    "\n",
    "# Create linear regression object\n",
    "reg = LinearRegression()\n",
    "\n",
    "# Train the model using the training sets\n",
    "reg.fit(df_X_train, df_y_train)\n",
    "\n",
    "# Make predictions using the testing set\n",
    "df_y_pred = reg.predict(df_X_test)\n",
    "\n",
    "# Print the coefficients and intercept\n",
    "print(\"Coefficients: \\n\", reg.coef_)\n",
    "print(\"Intercept: \\n\", reg.intercept_)\n",
    "\n",
    "# Print mean squared error\n",
    "print(\"Mean Squared Error: %.2f\" % mean_squared_error(df_y_test, df_y_pred))\n",
    "\n",
    "# Print coefficient of determination (r2 score)\n",
    "print(\"Coefficient of determination: %.2f\" % r2_score(df_y_test, df_y_pred))\n",
    "\n",
    "# Plot outputs\n",
    "plt.scatter(df_X_test['BMI'],df_y_test, color=\"blue\")\n",
    "plt.plot(df_X_test['BMI'], df_y_pred, color=\"orange\", linewidth=3)\n",
    "\n",
    "plt.xlabel(\"BMI\")\n",
    "plt.ylabel(\"Sugar\")\n",
    "\n",
    "plt.xticks(())\n",
    "plt.yticks(())\n",
    "plt.show()\n",
    "\n",
    "plt.scatter(df_X_test['Age'],df_y_test, color=\"blue\")\n",
    "plt.plot(df_X_test['Age'], df_y_pred, color=\"orange\", linewidth=3)\n",
    "\n",
    "plt.xlabel(\"Age\")\n",
    "plt.ylabel(\"Sugar\")\n",
    "plt.xticks(())\n",
    "plt.yticks(())\n",
    "plt.show()\n"
   ]
  },
  {
   "cell_type": "code",
   "execution_count": null,
   "id": "1b052ea0",
   "metadata": {},
   "outputs": [],
   "source": []
  }
 ],
 "metadata": {
  "kernelspec": {
   "display_name": "Python 3 (ipykernel)",
   "language": "python",
   "name": "python3"
  },
  "language_info": {
   "codemirror_mode": {
    "name": "ipython",
    "version": 3
   },
   "file_extension": ".py",
   "mimetype": "text/x-python",
   "name": "python",
   "nbconvert_exporter": "python",
   "pygments_lexer": "ipython3",
   "version": "3.9.13"
  }
 },
 "nbformat": 4,
 "nbformat_minor": 5
}
